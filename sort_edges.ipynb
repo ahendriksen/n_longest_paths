{
 "cells": [
  {
   "cell_type": "code",
   "execution_count": 1,
   "metadata": {},
   "outputs": [],
   "source": [
    "import numpy as np\n",
    "from pathlib import Path\n",
    "from tqdm import tqdm"
   ]
  },
  {
   "cell_type": "code",
   "execution_count": 31,
   "metadata": {},
   "outputs": [
    {
     "data": {
      "text/plain": [
       "[PosixPath('/tmp/bigstore1/hendriks/lean/ResNet50Avgpool_edges64_Rust_norms_CircleSquare.npy'),\n",
       " PosixPath('/tmp/bigstore1/hendriks/lean/ResNet50_edges64_Rust_MaxSVnorms_CamVid.npy'),\n",
       " PosixPath('/tmp/bigstore1/hendriks/lean/UNet4Avgpool_edges64_Rust_norms_CircleSquare.npy')]"
      ]
     },
     "execution_count": 31,
     "metadata": {},
     "output_type": "execute_result"
    }
   ],
   "source": [
    "# Edit this: \n",
    "base_dir = Path(\"/tmp/bigstore1/hendriks/lean/\")\n",
    "out_dir = base_dir / \"sorted\"\n",
    "out_dir.mkdir(exist_ok=True)\n",
    "sorted(base_dir.glob(\"*.npy\"))"
   ]
  },
  {
   "cell_type": "code",
   "execution_count": 41,
   "metadata": {},
   "outputs": [
    {
     "name": "stdout",
     "output_type": "stream",
     "text": [
      "/tmp/bigstore1/hendriks/lean/ResNet50Avgpool_edges64_Rust_norms_CircleSquare.npy\n"
     ]
    },
    {
     "name": "stderr",
     "output_type": "stream",
     "text": [
      "100%|██████████| 17717888/17717888 [00:13<00:00, 1270634.87it/s]\n",
      "37822it [00:00, 378210.44it/s]"
     ]
    },
    {
     "name": "stdout",
     "output_type": "stream",
     "text": [
      "       (0, 1, 0.65598065)\n",
      "       (0, 2, 0.87739575)\n",
      "       (0, 3, 1.4989148)\n",
      "       (0, 4, 1.056545)\n",
      "       (0, 5, 2.2319083)\n"
     ]
    },
    {
     "name": "stderr",
     "output_type": "stream",
     "text": [
      "17717887it [00:45, 392635.55it/s]\n"
     ]
    },
    {
     "name": "stdout",
     "output_type": "stream",
     "text": [
      "/tmp/bigstore1/hendriks/lean/UNet4Avgpool_edges64_Rust_norms_CircleSquare.npy\n"
     ]
    },
    {
     "name": "stderr",
     "output_type": "stream",
     "text": [
      "100%|██████████| 1836352/1836352 [00:01<00:00, 1239045.22it/s]\n",
      "38337it [00:00, 383362.14it/s]"
     ]
    },
    {
     "name": "stdout",
     "output_type": "stream",
     "text": [
      "       (0, 1, 1.9961337)\n",
      "       (0, 2, 2.7261736)\n",
      "       (0, 3, 1.4619358)\n",
      "       (0, 4, 2.381276)\n",
      "       (0, 5, 2.32642)\n"
     ]
    },
    {
     "name": "stderr",
     "output_type": "stream",
     "text": [
      "1836351it [00:04, 391817.38it/s]\n"
     ]
    },
    {
     "name": "stdout",
     "output_type": "stream",
     "text": [
      "/tmp/bigstore1/hendriks/lean/ResNet50_edges64_Rust_MaxSVnorms_CamVid.npy\n"
     ]
    },
    {
     "name": "stderr",
     "output_type": "stream",
     "text": [
      "100%|██████████| 5756563/5756563 [00:04<00:00, 1240639.51it/s]\n",
      "39058it [00:00, 390573.85it/s]"
     ]
    },
    {
     "name": "stdout",
     "output_type": "stream",
     "text": [
      "       (0, 3, 0.24794857)\n",
      "       (0, 4, 0.14603977)\n",
      "       (0, 5, 0.38277853)\n",
      "       (0, 6, 0.34812778)\n",
      "       (0, 7, 0.42440093)\n"
     ]
    },
    {
     "name": "stderr",
     "output_type": "stream",
     "text": [
      "5756562it [00:14, 396058.72it/s]\n"
     ]
    }
   ],
   "source": [
    "edge_dtype = [('from', '<i8'), ('to', '<i8'), ('norm', '<f4')]\n",
    "\n",
    "\n",
    "for path in base_dir.glob(\"*.npy\"):\n",
    "    print(path)\n",
    "    edges = np.load(path)\n",
    "    # Check forward pointing:\n",
    "    for e in tqdm(edges):\n",
    "        if not (e[0] < e[1]):\n",
    "            print(e)\n",
    "            assert False\n",
    "    # sort edges\n",
    "    sorted_edges = np.msort(edges)\n",
    "    # print some edges\n",
    "    for e in sorted_edges[:5]:\n",
    "        print(\"      \", e)\n",
    "    # Check sorted\n",
    "    for e0, e1 in tqdm(zip(sorted_edges, sorted_edges[1:])):\n",
    "        if not (tuple(e0) < tuple(e1)):\n",
    "            print(e0, e1)\n",
    "            assert False\n",
    "    \n",
    "    np.save(out_dir / path.name, sorted_edges)"
   ]
  },
  {
   "cell_type": "code",
   "execution_count": 2,
   "metadata": {},
   "outputs": [],
   "source": [
    "edges = np.load(\"/tmp/bigstore1/hendriks/lean/ResNet50_edges64_Rust_MaxSVnorms_CamVid.npy\")"
   ]
  },
  {
   "cell_type": "code",
   "execution_count": 3,
   "metadata": {},
   "outputs": [
    {
     "name": "stdout",
     "output_type": "stream",
     "text": [
      "       (0, 3, 0.24794857)\n",
      "       (1, 3, 0.24960567)\n",
      "       (2, 3, 0.24874313)\n",
      "       (0, 4, 0.14603977)\n",
      "       (1, 4, 0.15313756)\n"
     ]
    }
   ],
   "source": [
    "for e in edges[:5]:\n",
    "    print(\"      \", e)\n"
   ]
  }
 ],
 "metadata": {
  "kernelspec": {
   "display_name": "Python 3",
   "language": "python",
   "name": "python3"
  },
  "language_info": {
   "codemirror_mode": {
    "name": "ipython",
    "version": 3
   },
   "file_extension": ".py",
   "mimetype": "text/x-python",
   "name": "python",
   "nbconvert_exporter": "python",
   "pygments_lexer": "ipython3",
   "version": "3.7.3"
  }
 },
 "nbformat": 4,
 "nbformat_minor": 4
}
